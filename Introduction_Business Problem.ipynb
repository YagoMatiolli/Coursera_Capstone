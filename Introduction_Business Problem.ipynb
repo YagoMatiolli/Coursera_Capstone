{
 "cells": [
  {
   "cell_type": "markdown",
   "metadata": {
    "collapsed": true
   },
   "source": [
    "# Capstone project - The Battle of the Neighborhoods"
   ]
  },
  {
   "cell_type": "markdown",
   "metadata": {},
   "source": [
    "## 1. Introduction"
   ]
  },
  {
   "cell_type": "markdown",
   "metadata": {},
   "source": [
    "Moving to another country is a diffucult task. Trying to discorver where to live, where is safe and have all to offer is no simple task.\n",
    "Imagine that a company is moving to another country to make a new company headquarters and many of the employers are moving with. How can we simplify the search?  \n",
    "\n",
    "First lets define what we are considering a good neighhood:  \n",
    "  \n",
    "- Safe place\n",
    "- Enough atributes of interest for each one (Type of restaurants, Parks and other)"
   ]
  },
  {
   "cell_type": "markdown",
   "metadata": {},
   "source": [
    "### 1.1 Problem"
   ]
  },
  {
   "cell_type": "markdown",
   "metadata": {},
   "source": [
    "1 - First we need to see how dangerous are the borough in Toronto, and filter the safest.  \n",
    "2 - Explore the clusters in the Borough listed in point 1. "
   ]
  },
  {
   "cell_type": "code",
   "execution_count": null,
   "metadata": {},
   "outputs": [],
   "source": []
  }
 ],
 "metadata": {
  "kernelspec": {
   "display_name": "Python 3.6",
   "language": "python",
   "name": "python3"
  },
  "language_info": {
   "codemirror_mode": {
    "name": "ipython",
    "version": 3
   },
   "file_extension": ".py",
   "mimetype": "text/x-python",
   "name": "python",
   "nbconvert_exporter": "python",
   "pygments_lexer": "ipython3",
   "version": "3.6.8"
  }
 },
 "nbformat": 4,
 "nbformat_minor": 1
}
